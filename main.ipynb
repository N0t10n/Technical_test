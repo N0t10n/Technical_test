{
 "cells": [
  {
   "cell_type": "code",
   "execution_count": 4,
   "metadata": {},
   "outputs": [],
   "source": [
    "import pandas as pd\n",
    "import configparser\n",
    "import tweepy\n",
    "import pickle"
   ]
  },
  {
   "cell_type": "code",
   "execution_count": 5,
   "metadata": {},
   "outputs": [],
   "source": [
    "config = configparser.ConfigParser()\n",
    "config.read('config.ini')\n",
    "\n",
    "api_key = config['twitter']['api_key']\n",
    "api_key_secret = config['twitter']['api_secret_key']\n",
    "\n",
    "acces_token = config['twitter']['acces_token']\n",
    "acces_token_secret = config['twitter']['acces_token_secret']"
   ]
  },
  {
   "cell_type": "code",
   "execution_count": 7,
   "metadata": {},
   "outputs": [],
   "source": [
    "auth = tweepy.OAuthHandler(api_key, api_key_secret)\n",
    "auth.set_access_token(acces_token, acces_token_secret)"
   ]
  },
  {
   "cell_type": "code",
   "execution_count": 8,
   "metadata": {},
   "outputs": [],
   "source": [
    "api = tweepy.API(auth)"
   ]
  },
  {
   "cell_type": "code",
   "execution_count": 16,
   "metadata": {},
   "outputs": [],
   "source": [
    "public_tweets = api.home_timeline()\n",
    "full_archive = api.search_full_archive(label='AllTime', query=1024)"
   ]
  },
  {
   "cell_type": "code",
   "execution_count": 23,
   "metadata": {},
   "outputs": [
    {
     "name": "stdout",
     "output_type": "stream",
     "text": [
      "2022-05-23 09:15:16+00:00\n"
     ]
    }
   ],
   "source": [
    "print(full_archive[99].created_at)"
   ]
  },
  {
   "cell_type": "code",
   "execution_count": null,
   "metadata": {},
   "outputs": [],
   "source": [
    "print(full_archive.se)"
   ]
  },
  {
   "cell_type": "code",
   "execution_count": 28,
   "metadata": {},
   "outputs": [
    {
     "data": {
      "text/html": [
       "<div>\n",
       "<style scoped>\n",
       "    .dataframe tbody tr th:only-of-type {\n",
       "        vertical-align: middle;\n",
       "    }\n",
       "\n",
       "    .dataframe tbody tr th {\n",
       "        vertical-align: top;\n",
       "    }\n",
       "\n",
       "    .dataframe thead th {\n",
       "        text-align: right;\n",
       "    }\n",
       "</style>\n",
       "<table border=\"1\" class=\"dataframe\">\n",
       "  <thead>\n",
       "    <tr style=\"text-align: right;\">\n",
       "      <th></th>\n",
       "      <th>Time</th>\n",
       "      <th>User</th>\n",
       "      <th>User_id</th>\n",
       "      <th>Text</th>\n",
       "      <th>Text_id</th>\n",
       "    </tr>\n",
       "  </thead>\n",
       "  <tbody>\n",
       "    <tr>\n",
       "      <th>0</th>\n",
       "      <td>2022-05-23 09:58:54+00:00</td>\n",
       "      <td>peee_channn</td>\n",
       "      <td>1420047111790350343</td>\n",
       "      <td>@tako_1024 マジで作れんwww</td>\n",
       "      <td>1420047111790350343</td>\n",
       "    </tr>\n",
       "    <tr>\n",
       "      <th>1</th>\n",
       "      <td>2022-05-23 09:58:14+00:00</td>\n",
       "      <td>Psy603msigloo</td>\n",
       "      <td>708153398466457600</td>\n",
       "      <td>@ene_1024 頑張ってどうかなるもんじゃないけど、\\n運は引き寄せるものよな</td>\n",
       "      <td>708153398466457600</td>\n",
       "    </tr>\n",
       "    <tr>\n",
       "      <th>2</th>\n",
       "      <td>2022-05-23 09:56:29+00:00</td>\n",
       "      <td>Matoi_ship9</td>\n",
       "      <td>1446719102261731328</td>\n",
       "      <td>@theUni_1024 ありがとう！</td>\n",
       "      <td>1446719102261731328</td>\n",
       "    </tr>\n",
       "    <tr>\n",
       "      <th>3</th>\n",
       "      <td>2022-05-23 09:56:06+00:00</td>\n",
       "      <td>Psy603msigloo</td>\n",
       "      <td>708153398466457600</td>\n",
       "      <td>@ene_1024 ねだるな\\n勝ち取れ</td>\n",
       "      <td>708153398466457600</td>\n",
       "    </tr>\n",
       "    <tr>\n",
       "      <th>4</th>\n",
       "      <td>2022-05-23 09:55:38+00:00</td>\n",
       "      <td>UbuiwSLvP3i3eQZ</td>\n",
       "      <td>1350049061370359814</td>\n",
       "      <td>@nanae_1024 ✋</td>\n",
       "      <td>1350049061370359814</td>\n",
       "    </tr>\n",
       "    <tr>\n",
       "      <th>...</th>\n",
       "      <td>...</td>\n",
       "      <td>...</td>\n",
       "      <td>...</td>\n",
       "      <td>...</td>\n",
       "      <td>...</td>\n",
       "    </tr>\n",
       "    <tr>\n",
       "      <th>95</th>\n",
       "      <td>2022-05-23 09:16:46+00:00</td>\n",
       "      <td>VkappyV</td>\n",
       "      <td>1076054733587046400</td>\n",
       "      <td>@nanae_1024 おし！！やるぞー！！</td>\n",
       "      <td>1076054733587046400</td>\n",
       "    </tr>\n",
       "    <tr>\n",
       "      <th>96</th>\n",
       "      <td>2022-05-23 09:16:33+00:00</td>\n",
       "      <td>RUHA_TV</td>\n",
       "      <td>1572392299</td>\n",
       "      <td>RT @UrfahaberNet: EN İYİSİ VALİLERİ HALK SEÇSİ...</td>\n",
       "      <td>1572392299</td>\n",
       "    </tr>\n",
       "    <tr>\n",
       "      <th>97</th>\n",
       "      <td>2022-05-23 09:16:24+00:00</td>\n",
       "      <td>yosumixuco</td>\n",
       "      <td>3013114867</td>\n",
       "      <td>@1024________ ゴーゴーはなを❤️‍🔥❤️‍🔥❤️‍🔥</td>\n",
       "      <td>3013114867</td>\n",
       "    </tr>\n",
       "    <tr>\n",
       "      <th>98</th>\n",
       "      <td>2022-05-23 09:15:44+00:00</td>\n",
       "      <td>24_SA5NvmuraC5R</td>\n",
       "      <td>1429735137269358593</td>\n",
       "      <td>델 2021 Inspiron 16, 미스트 블루, 코어i7 11세대, 1024GB,...</td>\n",
       "      <td>1429735137269358593</td>\n",
       "    </tr>\n",
       "    <tr>\n",
       "      <th>99</th>\n",
       "      <td>2022-05-23 09:15:16+00:00</td>\n",
       "      <td>Hnk_yongi</td>\n",
       "      <td>1359543704327868421</td>\n",
       "      <td>@Kocha_1024 よろしくお願いします〜🙌🙌\\nなんてお呼びしたらいいですか？</td>\n",
       "      <td>1359543704327868421</td>\n",
       "    </tr>\n",
       "  </tbody>\n",
       "</table>\n",
       "<p>100 rows × 5 columns</p>\n",
       "</div>"
      ],
      "text/plain": [
       "                        Time             User              User_id  \\\n",
       "0  2022-05-23 09:58:54+00:00      peee_channn  1420047111790350343   \n",
       "1  2022-05-23 09:58:14+00:00    Psy603msigloo   708153398466457600   \n",
       "2  2022-05-23 09:56:29+00:00      Matoi_ship9  1446719102261731328   \n",
       "3  2022-05-23 09:56:06+00:00    Psy603msigloo   708153398466457600   \n",
       "4  2022-05-23 09:55:38+00:00  UbuiwSLvP3i3eQZ  1350049061370359814   \n",
       "..                       ...              ...                  ...   \n",
       "95 2022-05-23 09:16:46+00:00          VkappyV  1076054733587046400   \n",
       "96 2022-05-23 09:16:33+00:00          RUHA_TV           1572392299   \n",
       "97 2022-05-23 09:16:24+00:00       yosumixuco           3013114867   \n",
       "98 2022-05-23 09:15:44+00:00  24_SA5NvmuraC5R  1429735137269358593   \n",
       "99 2022-05-23 09:15:16+00:00        Hnk_yongi  1359543704327868421   \n",
       "\n",
       "                                                 Text              Text_id  \n",
       "0                                @tako_1024 マジで作れんwww  1420047111790350343  \n",
       "1           @ene_1024 頑張ってどうかなるもんじゃないけど、\\n運は引き寄せるものよな   708153398466457600  \n",
       "2                                 @theUni_1024 ありがとう！  1446719102261731328  \n",
       "3                                @ene_1024 ねだるな\\n勝ち取れ   708153398466457600  \n",
       "4                                       @nanae_1024 ✋  1350049061370359814  \n",
       "..                                                ...                  ...  \n",
       "95                             @nanae_1024 おし！！やるぞー！！  1076054733587046400  \n",
       "96  RT @UrfahaberNet: EN İYİSİ VALİLERİ HALK SEÇSİ...           1572392299  \n",
       "97                  @1024________ ゴーゴーはなを❤️‍🔥❤️‍🔥❤️‍🔥           3013114867  \n",
       "98  델 2021 Inspiron 16, 미스트 블루, 코어i7 11세대, 1024GB,...  1429735137269358593  \n",
       "99         @Kocha_1024 よろしくお願いします〜🙌🙌\\nなんてお呼びしたらいいですか？  1359543704327868421  \n",
       "\n",
       "[100 rows x 5 columns]"
      ]
     },
     "execution_count": 28,
     "metadata": {},
     "output_type": "execute_result"
    }
   ],
   "source": [
    "columns = ['Time', 'User', 'User_id', 'Text', 'Text_id']\n",
    "data = []\n",
    "\n",
    "for tweet in full_archive:\n",
    "    data.append([tweet.created_at, tweet.user.screen_name, tweet.user.id, tweet.text, tweet.user.id_str])\n",
    "\n",
    "df = pd.DataFrame(data, columns=columns)\n",
    "\n",
    "df"
   ]
  },
  {
   "cell_type": "code",
   "execution_count": null,
   "metadata": {},
   "outputs": [],
   "source": []
  }
 ],
 "metadata": {
  "interpreter": {
   "hash": "cae0fb89e750e55422ac74578a131942a48c53c32b875f87336759b11b4f80e5"
  },
  "kernelspec": {
   "display_name": "Python 3.10.4 ('.env': venv)",
   "language": "python",
   "name": "python3"
  },
  "language_info": {
   "codemirror_mode": {
    "name": "ipython",
    "version": 3
   },
   "file_extension": ".py",
   "mimetype": "text/x-python",
   "name": "python",
   "nbconvert_exporter": "python",
   "pygments_lexer": "ipython3",
   "version": "3.10.4"
  },
  "orig_nbformat": 4
 },
 "nbformat": 4,
 "nbformat_minor": 2
}
