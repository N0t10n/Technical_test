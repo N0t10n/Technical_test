{
 "cells": [
  {
   "cell_type": "code",
   "execution_count": 113,
   "metadata": {},
   "outputs": [],
   "source": [
    "import pandas as pd\n",
    "import twint\n",
    "import nest_asyncio\n",
    "\n",
    "nest_asyncio.apply()"
   ]
  },
  {
   "cell_type": "code",
   "execution_count": 114,
   "metadata": {},
   "outputs": [
    {
     "name": "stdout",
     "output_type": "stream",
     "text": [
      "[!] No more data! Scraping will stop now.\n",
      "found 0 deleted tweets in this search.\n"
     ]
    }
   ],
   "source": [
    "# Configure\n",
    "c = twint.Config()\n",
    "c.Search = '@TheBridge_Tech'\n",
    "c.Store_csv = True\n",
    "c.Output = 'data/tweets.csv'\n",
    "c.Since = '2022-01-01 00:00:00'\n",
    "c.Hide_output = True\n",
    "c.Debug = True\n",
    "\n",
    "# Run\n",
    "try:\n",
    "    twint.run.Search(c)\n",
    "except Exception as e:\n",
    "    print(e)"
   ]
  },
  {
   "cell_type": "code",
   "execution_count": 115,
   "metadata": {},
   "outputs": [],
   "source": [
    "data = pd.read_csv('data/tweets.csv')"
   ]
  },
  {
   "cell_type": "code",
   "execution_count": 124,
   "metadata": {},
   "outputs": [
    {
     "data": {
      "text/plain": [
       "Index(['id', 'conversation_id', 'created_at', 'date', 'time', 'timezone',\n",
       "       'user_id', 'username', 'name', 'place', 'tweet', 'language', 'mentions',\n",
       "       'urls', 'photos', 'replies_count', 'retweets_count', 'likes_count',\n",
       "       'hashtags', 'cashtags', 'link', 'retweet', 'quote_url', 'video',\n",
       "       'thumbnail', 'near', 'geo', 'source', 'user_rt_id', 'user_rt',\n",
       "       'retweet_id', 'reply_to', 'retweet_date', 'translate', 'trans_src',\n",
       "       'trans_dest'],\n",
       "      dtype='object')"
      ]
     },
     "execution_count": 124,
     "metadata": {},
     "output_type": "execute_result"
    }
   ],
   "source": [
    "data.columns"
   ]
  },
  {
   "cell_type": "code",
   "execution_count": 116,
   "metadata": {},
   "outputs": [],
   "source": [
    "df = data[['id', 'tweet', 'created_at', 'date', 'user_id', 'name', 'username', 'retweets_count', 'replies_count', 'likes_count', 'quote_url']]"
   ]
  },
  {
   "cell_type": "code",
   "execution_count": 121,
   "metadata": {},
   "outputs": [
    {
     "name": "stderr",
     "output_type": "stream",
     "text": [
      "/tmp/ipykernel_20495/329245698.py:1: SettingWithCopyWarning: \n",
      "A value is trying to be set on a copy of a slice from a DataFrame.\n",
      "Try using .loc[row_indexer,col_indexer] = value instead\n",
      "\n",
      "See the caveats in the documentation: https://pandas.pydata.org/pandas-docs/stable/user_guide/indexing.html#returning-a-view-versus-a-copy\n",
      "  df['created_at'] = pd.to_datetime(df['created_at'])\n"
     ]
    }
   ],
   "source": [
    "df['created_at'] = pd.to_datetime(df['created_at'])"
   ]
  },
  {
   "cell_type": "code",
   "execution_count": 123,
   "metadata": {},
   "outputs": [
    {
     "data": {
      "text/html": [
       "<div>\n",
       "<style scoped>\n",
       "    .dataframe tbody tr th:only-of-type {\n",
       "        vertical-align: middle;\n",
       "    }\n",
       "\n",
       "    .dataframe tbody tr th {\n",
       "        vertical-align: top;\n",
       "    }\n",
       "\n",
       "    .dataframe thead th {\n",
       "        text-align: right;\n",
       "    }\n",
       "</style>\n",
       "<table border=\"1\" class=\"dataframe\">\n",
       "  <thead>\n",
       "    <tr style=\"text-align: right;\">\n",
       "      <th></th>\n",
       "      <th>id</th>\n",
       "      <th>tweet</th>\n",
       "      <th>created_at</th>\n",
       "      <th>date</th>\n",
       "      <th>user_id</th>\n",
       "      <th>name</th>\n",
       "      <th>username</th>\n",
       "      <th>retweets_count</th>\n",
       "      <th>replies_count</th>\n",
       "      <th>likes_count</th>\n",
       "      <th>quote_url</th>\n",
       "    </tr>\n",
       "  </thead>\n",
       "  <tbody>\n",
       "    <tr>\n",
       "      <th>0</th>\n",
       "      <td>1528696920729956352</td>\n",
       "      <td>Terminando el desafio de tripulaciones en @The...</td>\n",
       "      <td>2022-05-23 13:18:42+02:00</td>\n",
       "      <td>2022-05-23</td>\n",
       "      <td>1528649918306557952</td>\n",
       "      <td>Nacho Esteban</td>\n",
       "      <td>nachooatm82</td>\n",
       "      <td>0</td>\n",
       "      <td>0</td>\n",
       "      <td>0</td>\n",
       "      <td>NaN</td>\n",
       "    </tr>\n",
       "    <tr>\n",
       "      <th>1</th>\n",
       "      <td>1528650844094271490</td>\n",
       "      <td>\"El libro de la inteligencia colectiva\"   http...</td>\n",
       "      <td>2022-05-23 10:15:36+02:00</td>\n",
       "      <td>2022-05-23</td>\n",
       "      <td>41545659</td>\n",
       "      <td>Mario Lopez de Avila</td>\n",
       "      <td>nodosenlared</td>\n",
       "      <td>2</td>\n",
       "      <td>0</td>\n",
       "      <td>5</td>\n",
       "      <td>NaN</td>\n",
       "    </tr>\n",
       "    <tr>\n",
       "      <th>2</th>\n",
       "      <td>1528647207594909696</td>\n",
       "      <td>Este jueves nos vemos en @TheBridge_Tech para ...</td>\n",
       "      <td>2022-05-23 10:01:09+02:00</td>\n",
       "      <td>2022-05-23</td>\n",
       "      <td>4628161</td>\n",
       "      <td>Tíscar Lara</td>\n",
       "      <td>tiscar</td>\n",
       "      <td>0</td>\n",
       "      <td>0</td>\n",
       "      <td>1</td>\n",
       "      <td>https://twitter.com/arey/status/15286383075166...</td>\n",
       "    </tr>\n",
       "    <tr>\n",
       "      <th>3</th>\n",
       "      <td>1528641426975760389</td>\n",
       "      <td>Conoce las 25 ofertas de #empleo de la empresa...</td>\n",
       "      <td>2022-05-23 09:38:11+02:00</td>\n",
       "      <td>2022-05-23</td>\n",
       "      <td>987388686</td>\n",
       "      <td>Juan Luis Pavón</td>\n",
       "      <td>juanluispavon1</td>\n",
       "      <td>2</td>\n",
       "      <td>0</td>\n",
       "      <td>6</td>\n",
       "      <td>NaN</td>\n",
       "    </tr>\n",
       "    <tr>\n",
       "      <th>4</th>\n",
       "      <td>1528638307516694529</td>\n",
       "      <td>#LastMinute La 2da presentación del #LibroIC e...</td>\n",
       "      <td>2022-05-23 09:25:47+02:00</td>\n",
       "      <td>2022-05-23</td>\n",
       "      <td>15993641</td>\n",
       "      <td>Amalio A. Rey</td>\n",
       "      <td>arey</td>\n",
       "      <td>1</td>\n",
       "      <td>0</td>\n",
       "      <td>2</td>\n",
       "      <td>NaN</td>\n",
       "    </tr>\n",
       "  </tbody>\n",
       "</table>\n",
       "</div>"
      ],
      "text/plain": [
       "                    id                                              tweet  \\\n",
       "0  1528696920729956352  Terminando el desafio de tripulaciones en @The...   \n",
       "1  1528650844094271490  \"El libro de la inteligencia colectiva\"   http...   \n",
       "2  1528647207594909696  Este jueves nos vemos en @TheBridge_Tech para ...   \n",
       "3  1528641426975760389  Conoce las 25 ofertas de #empleo de la empresa...   \n",
       "4  1528638307516694529  #LastMinute La 2da presentación del #LibroIC e...   \n",
       "\n",
       "                 created_at        date              user_id  \\\n",
       "0 2022-05-23 13:18:42+02:00  2022-05-23  1528649918306557952   \n",
       "1 2022-05-23 10:15:36+02:00  2022-05-23             41545659   \n",
       "2 2022-05-23 10:01:09+02:00  2022-05-23              4628161   \n",
       "3 2022-05-23 09:38:11+02:00  2022-05-23            987388686   \n",
       "4 2022-05-23 09:25:47+02:00  2022-05-23             15993641   \n",
       "\n",
       "                   name        username  retweets_count  replies_count  \\\n",
       "0         Nacho Esteban     nachooatm82               0              0   \n",
       "1  Mario Lopez de Avila    nodosenlared               2              0   \n",
       "2           Tíscar Lara          tiscar               0              0   \n",
       "3       Juan Luis Pavón  juanluispavon1               2              0   \n",
       "4         Amalio A. Rey            arey               1              0   \n",
       "\n",
       "   likes_count                                          quote_url  \n",
       "0            0                                                NaN  \n",
       "1            5                                                NaN  \n",
       "2            1  https://twitter.com/arey/status/15286383075166...  \n",
       "3            6                                                NaN  \n",
       "4            2                                                NaN  "
      ]
     },
     "execution_count": 123,
     "metadata": {},
     "output_type": "execute_result"
    }
   ],
   "source": [
    "df.head()"
   ]
  }
 ],
 "metadata": {
  "interpreter": {
   "hash": "cae0fb89e750e55422ac74578a131942a48c53c32b875f87336759b11b4f80e5"
  },
  "kernelspec": {
   "display_name": "Python 3.10.4 ('.env': venv)",
   "language": "python",
   "name": "python3"
  },
  "language_info": {
   "codemirror_mode": {
    "name": "ipython",
    "version": 3
   },
   "file_extension": ".py",
   "mimetype": "text/x-python",
   "name": "python",
   "nbconvert_exporter": "python",
   "pygments_lexer": "ipython3",
   "version": "3.10.4"
  },
  "orig_nbformat": 4
 },
 "nbformat": 4,
 "nbformat_minor": 2
}
