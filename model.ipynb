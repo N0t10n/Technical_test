{
 "cells": [
  {
   "cell_type": "code",
   "execution_count": 1,
   "metadata": {},
   "outputs": [],
   "source": [
    "import pickle\n",
    "import re\n",
    "import pandas as pd"
   ]
  },
  {
   "cell_type": "markdown",
   "metadata": {},
   "source": [
    "# Data import & processing"
   ]
  },
  {
   "cell_type": "code",
   "execution_count": 2,
   "metadata": {},
   "outputs": [
    {
     "data": {
      "text/html": [
       "<div>\n",
       "<style scoped>\n",
       "    .dataframe tbody tr th:only-of-type {\n",
       "        vertical-align: middle;\n",
       "    }\n",
       "\n",
       "    .dataframe tbody tr th {\n",
       "        vertical-align: top;\n",
       "    }\n",
       "\n",
       "    .dataframe thead th {\n",
       "        text-align: right;\n",
       "    }\n",
       "</style>\n",
       "<table border=\"1\" class=\"dataframe\">\n",
       "  <thead>\n",
       "    <tr style=\"text-align: right;\">\n",
       "      <th></th>\n",
       "      <th>id</th>\n",
       "      <th>tweet</th>\n",
       "      <th>created_at</th>\n",
       "      <th>user_id</th>\n",
       "      <th>name</th>\n",
       "      <th>username</th>\n",
       "      <th>retweets_count</th>\n",
       "      <th>replies_count</th>\n",
       "      <th>likes_count</th>\n",
       "      <th>quote_url</th>\n",
       "    </tr>\n",
       "  </thead>\n",
       "  <tbody>\n",
       "    <tr>\n",
       "      <th>24</th>\n",
       "      <td>1519706866703638529</td>\n",
       "      <td>En breve empezamos la charla sobre RV y Psicol...</td>\n",
       "      <td>2022-04-28 17:55:26 CEST</td>\n",
       "      <td>3294953441</td>\n",
       "      <td>Jose Maria Torralba</td>\n",
       "      <td>jm_torralba_</td>\n",
       "      <td>1</td>\n",
       "      <td>0</td>\n",
       "      <td>15</td>\n",
       "      <td>NaN</td>\n",
       "    </tr>\n",
       "    <tr>\n",
       "      <th>93</th>\n",
       "      <td>1500124541137428490</td>\n",
       "      <td>Día para agradecer a @TheBridge_Tech y @Glovo_...</td>\n",
       "      <td>2022-03-05 16:02:16 CET</td>\n",
       "      <td>363153431</td>\n",
       "      <td>Pablo Oliete</td>\n",
       "      <td>pablooliete</td>\n",
       "      <td>0</td>\n",
       "      <td>0</td>\n",
       "      <td>13</td>\n",
       "      <td>NaN</td>\n",
       "    </tr>\n",
       "    <tr>\n",
       "      <th>62</th>\n",
       "      <td>1513848281801056258</td>\n",
       "      <td>De los 21, hay 7 desarrolladoras de @Adalab_Di...</td>\n",
       "      <td>2022-04-12 13:55:30 CEST</td>\n",
       "      <td>1609031</td>\n",
       "      <td>Mánu Fosela</td>\n",
       "      <td>manufosela</td>\n",
       "      <td>3</td>\n",
       "      <td>3</td>\n",
       "      <td>12</td>\n",
       "      <td>NaN</td>\n",
       "    </tr>\n",
       "  </tbody>\n",
       "</table>\n",
       "</div>"
      ],
      "text/plain": [
       "                     id                                              tweet  \\\n",
       "24  1519706866703638529  En breve empezamos la charla sobre RV y Psicol...   \n",
       "93  1500124541137428490  Día para agradecer a @TheBridge_Tech y @Glovo_...   \n",
       "62  1513848281801056258  De los 21, hay 7 desarrolladoras de @Adalab_Di...   \n",
       "\n",
       "                  created_at     user_id                 name      username  \\\n",
       "24  2022-04-28 17:55:26 CEST  3294953441  Jose Maria Torralba  jm_torralba_   \n",
       "93   2022-03-05 16:02:16 CET   363153431         Pablo Oliete   pablooliete   \n",
       "62  2022-04-12 13:55:30 CEST     1609031          Mánu Fosela    manufosela   \n",
       "\n",
       "    retweets_count  replies_count  likes_count quote_url  \n",
       "24               1              0           15       NaN  \n",
       "93               0              0           13       NaN  \n",
       "62               3              3           12       NaN  "
      ]
     },
     "execution_count": 2,
     "metadata": {},
     "output_type": "execute_result"
    }
   ],
   "source": [
    "df = pd.read_csv('data/clean_tweets.csv')\n",
    "df3 = df.sort_values('likes_count', ascending=False)[:3]\n",
    "df3"
   ]
  },
  {
   "cell_type": "markdown",
   "metadata": {},
   "source": [
    "DUPLICATES"
   ]
  },
  {
   "cell_type": "code",
   "execution_count": 3,
   "metadata": {},
   "outputs": [],
   "source": [
    "data = df3.copy()\n",
    "\n",
    "data.drop_duplicates(subset='tweet', inplace=True)"
   ]
  },
  {
   "cell_type": "markdown",
   "metadata": {},
   "source": [
    "PUNCTUATION MARKS"
   ]
  },
  {
   "cell_type": "code",
   "execution_count": 4,
   "metadata": {},
   "outputs": [
    {
     "data": {
      "text/plain": [
       "24    En breve empezamos la charla sobre RV y Psicol...\n",
       "93    Día para agradecer a @TheBridge_Tech y @Glovo_...\n",
       "62    De los 21, hay 7 desarrolladoras de @Adalab_Di...\n",
       "Name: tweet, dtype: object"
      ]
     },
     "execution_count": 4,
     "metadata": {},
     "output_type": "execute_result"
    }
   ],
   "source": [
    "data['tweet']"
   ]
  },
  {
   "cell_type": "code",
   "execution_count": 5,
   "metadata": {},
   "outputs": [
    {
     "data": {
      "text/plain": [
       "24    en breve empezamos la charla sobre rv y psicol...\n",
       "93    día para agradecer a thebridgetech y glovoes l...\n",
       "62    de los  hay  desarrolladoras de adalabdigital ...\n",
       "Name: tweet, dtype: object"
      ]
     },
     "execution_count": 5,
     "metadata": {},
     "output_type": "execute_result"
    }
   ],
   "source": [
    "signs = re.compile(\"(\\.)|(\\;)|(\\:)|(\\!)|(\\?)|(\\¿)|(\\@)|(\\#)|(\\_)|(\\-)|(\\/)|(\\,)|(\\\")|(\\()|(\\))|(\\[)|(\\])|(\\d+)\")\n",
    "\n",
    "def signs_tweets(tweet):\n",
    "    return signs.sub('', tweet.lower())\n",
    "\n",
    "data['tweet'] = data['tweet'].apply(signs_tweets)\n",
    "data['tweet'].head()"
   ]
  },
  {
   "cell_type": "markdown",
   "metadata": {},
   "source": [
    "REMOVE LINKS"
   ]
  },
  {
   "cell_type": "code",
   "execution_count": 6,
   "metadata": {},
   "outputs": [
    {
     "data": {
      "text/plain": [
       "24    en breve empezamos la charla sobre rv y psicol...\n",
       "93    día para agradecer a thebridgetech y glovoes l...\n",
       "62    de los hay desarrolladoras de adalabdigital de...\n",
       "Name: tweet, dtype: object"
      ]
     },
     "execution_count": 6,
     "metadata": {},
     "output_type": "execute_result"
    }
   ],
   "source": [
    "def remove_links(data):\n",
    "    return \" \".join(['{link}' if ('https') in word else word for word in data.split()])\n",
    "\n",
    "data['tweet'] = data['tweet'].apply(remove_links)\n",
    "data['tweet'].head()"
   ]
  },
  {
   "cell_type": "markdown",
   "metadata": {},
   "source": [
    "STOPWORDS"
   ]
  },
  {
   "cell_type": "code",
   "execution_count": 7,
   "metadata": {},
   "outputs": [
    {
     "name": "stderr",
     "output_type": "stream",
     "text": [
      "[nltk_data] Downloading package stopwords to /home/n0t10n/nltk_data...\n",
      "[nltk_data]   Package stopwords is already up-to-date!\n"
     ]
    }
   ],
   "source": [
    "import nltk\n",
    "nltk.download('stopwords')\n",
    "from nltk.corpus import stopwords\n",
    "\n",
    "spanish_stopwords = stopwords.words('spanish')"
   ]
  },
  {
   "cell_type": "code",
   "execution_count": 8,
   "metadata": {},
   "outputs": [
    {
     "data": {
      "text/html": [
       "<div>\n",
       "<style scoped>\n",
       "    .dataframe tbody tr th:only-of-type {\n",
       "        vertical-align: middle;\n",
       "    }\n",
       "\n",
       "    .dataframe tbody tr th {\n",
       "        vertical-align: top;\n",
       "    }\n",
       "\n",
       "    .dataframe thead th {\n",
       "        text-align: right;\n",
       "    }\n",
       "</style>\n",
       "<table border=\"1\" class=\"dataframe\">\n",
       "  <thead>\n",
       "    <tr style=\"text-align: right;\">\n",
       "      <th></th>\n",
       "      <th>id</th>\n",
       "      <th>tweet</th>\n",
       "      <th>created_at</th>\n",
       "      <th>user_id</th>\n",
       "      <th>name</th>\n",
       "      <th>username</th>\n",
       "      <th>retweets_count</th>\n",
       "      <th>replies_count</th>\n",
       "      <th>likes_count</th>\n",
       "      <th>quote_url</th>\n",
       "    </tr>\n",
       "  </thead>\n",
       "  <tbody>\n",
       "    <tr>\n",
       "      <th>24</th>\n",
       "      <td>1519706866703638529</td>\n",
       "      <td>breve empezamos charla rv psicología ready the...</td>\n",
       "      <td>2022-04-28 17:55:26 CEST</td>\n",
       "      <td>3294953441</td>\n",
       "      <td>Jose Maria Torralba</td>\n",
       "      <td>jm_torralba_</td>\n",
       "      <td>1</td>\n",
       "      <td>0</td>\n",
       "      <td>15</td>\n",
       "      <td>NaN</td>\n",
       "    </tr>\n",
       "    <tr>\n",
       "      <th>93</th>\n",
       "      <td>1500124541137428490</td>\n",
       "      <td>día agradecer thebridgetech glovoes oportunida...</td>\n",
       "      <td>2022-03-05 16:02:16 CET</td>\n",
       "      <td>363153431</td>\n",
       "      <td>Pablo Oliete</td>\n",
       "      <td>pablooliete</td>\n",
       "      <td>0</td>\n",
       "      <td>0</td>\n",
       "      <td>13</td>\n",
       "      <td>NaN</td>\n",
       "    </tr>\n",
       "    <tr>\n",
       "      <th>62</th>\n",
       "      <td>1513848281801056258</td>\n",
       "      <td>desarrolladoras adalabdigital geeksacademyes c...</td>\n",
       "      <td>2022-04-12 13:55:30 CEST</td>\n",
       "      <td>1609031</td>\n",
       "      <td>Mánu Fosela</td>\n",
       "      <td>manufosela</td>\n",
       "      <td>3</td>\n",
       "      <td>3</td>\n",
       "      <td>12</td>\n",
       "      <td>NaN</td>\n",
       "    </tr>\n",
       "  </tbody>\n",
       "</table>\n",
       "</div>"
      ],
      "text/plain": [
       "                     id                                              tweet  \\\n",
       "24  1519706866703638529  breve empezamos charla rv psicología ready the...   \n",
       "93  1500124541137428490  día agradecer thebridgetech glovoes oportunida...   \n",
       "62  1513848281801056258  desarrolladoras adalabdigital geeksacademyes c...   \n",
       "\n",
       "                  created_at     user_id                 name      username  \\\n",
       "24  2022-04-28 17:55:26 CEST  3294953441  Jose Maria Torralba  jm_torralba_   \n",
       "93   2022-03-05 16:02:16 CET   363153431         Pablo Oliete   pablooliete   \n",
       "62  2022-04-12 13:55:30 CEST     1609031          Mánu Fosela    manufosela   \n",
       "\n",
       "    retweets_count  replies_count  likes_count quote_url  \n",
       "24               1              0           15       NaN  \n",
       "93               0              0           13       NaN  \n",
       "62               3              3           12       NaN  "
      ]
     },
     "execution_count": 8,
     "metadata": {},
     "output_type": "execute_result"
    }
   ],
   "source": [
    "def remove_stopwords(data):\n",
    "    return \" \".join([word for word in data.split() if word not in spanish_stopwords])\n",
    "\n",
    "data['tweet'] = data['tweet'].apply(remove_stopwords)\n",
    "data.head()"
   ]
  },
  {
   "cell_type": "markdown",
   "metadata": {},
   "source": [
    "STEMMER"
   ]
  },
  {
   "cell_type": "code",
   "execution_count": 9,
   "metadata": {},
   "outputs": [
    {
     "data": {
      "text/plain": [
       "24    brev empez charl rv psicolog ready thebridgete...\n",
       "93    dia agradec thebridgetech glov oportun dad dos...\n",
       "62    desarroll adalabdigital geeksacademy codenotch...\n",
       "Name: tweet, dtype: object"
      ]
     },
     "execution_count": 9,
     "metadata": {},
     "output_type": "execute_result"
    }
   ],
   "source": [
    "from nltk.stem.snowball import SnowballStemmer\n",
    "\n",
    "def spanish_stemmer(x):\n",
    "    stemmer = SnowballStemmer('spanish')\n",
    "    return \" \".join([stemmer.stem(word) for word in x.split()])\n",
    "\n",
    "data['tweet'] = data['tweet'].apply(spanish_stemmer)\n",
    "data['tweet'].head()"
   ]
  },
  {
   "cell_type": "code",
   "execution_count": 30,
   "metadata": {},
   "outputs": [],
   "source": [
    "pd.set_option('display.max_colwidth', None)"
   ]
  },
  {
   "cell_type": "markdown",
   "metadata": {},
   "source": [
    "# Model"
   ]
  },
  {
   "cell_type": "markdown",
   "metadata": {},
   "source": [
    "DATA"
   ]
  },
  {
   "cell_type": "code",
   "execution_count": 31,
   "metadata": {},
   "outputs": [
    {
     "data": {
      "text/plain": [
       "24                                                                            brev empez charl rv psicolog ready thebridgetech {link}\n",
       "93    dia agradec thebridgetech glov oportun dad dos cracks form codeorg program bloqu curs hor duracion brav 🙌 🔝🦸🏻‍♂️🦸🏻‍♀️🏭🇪🇸 {link}\n",
       "62                         desarroll adalabdigital geeksacademy codenotchm socratech thebridgetech itacademy nebulov fpdaw autodidact\n",
       "Name: tweet, dtype: object"
      ]
     },
     "execution_count": 31,
     "metadata": {},
     "output_type": "execute_result"
    }
   ],
   "source": [
    "data['tweet']"
   ]
  },
  {
   "cell_type": "code",
   "execution_count": 32,
   "metadata": {},
   "outputs": [
    {
     "data": {
      "text/plain": [
       "24                                                                                                                                        En breve empezamos la charla sobre RV y Psicología! Todo ready! @TheBridge_Tech  https://t.co/lW3fvKhcGZ\n",
       "93    Día para agradecer a @TheBridge_Tech y @Glovo_ES la oportunidad que han dado a estos dos cracks para formarse con @codeorg en programación por bloques en un curso de 48 horas de duración. Bravo 🙌  🔝🦸🏻‍♂️🦸🏻‍♀️🏭🇪🇸  https://t.co/ZTCrroHQTc\n",
       "62                                         De los 21, hay 7 desarrolladoras de @Adalab_Digital, 4 de @4GeeksAcademyES, 2 de @CodenotchMAD, 1 de @socratech_ , 1 de @TheBridge_Tech, 1 de @ITAcademy, 1 de @nebulova_es y de FP-DAW y autodidactas.\n",
       "Name: tweet, dtype: object"
      ]
     },
     "execution_count": 32,
     "metadata": {},
     "output_type": "execute_result"
    }
   ],
   "source": [
    "df3['tweet']"
   ]
  },
  {
   "cell_type": "code",
   "execution_count": 33,
   "metadata": {},
   "outputs": [
    {
     "data": {
      "text/html": [
       "<div>\n",
       "<style scoped>\n",
       "    .dataframe tbody tr th:only-of-type {\n",
       "        vertical-align: middle;\n",
       "    }\n",
       "\n",
       "    .dataframe tbody tr th {\n",
       "        vertical-align: top;\n",
       "    }\n",
       "\n",
       "    .dataframe thead th {\n",
       "        text-align: right;\n",
       "    }\n",
       "</style>\n",
       "<table border=\"1\" class=\"dataframe\">\n",
       "  <thead>\n",
       "    <tr style=\"text-align: right;\">\n",
       "      <th></th>\n",
       "      <th>content</th>\n",
       "      <th>clean_content</th>\n",
       "    </tr>\n",
       "  </thead>\n",
       "  <tbody>\n",
       "    <tr>\n",
       "      <th>24</th>\n",
       "      <td>En breve empezamos la charla sobre RV y Psicología! Todo ready! @TheBridge_Tech  https://t.co/lW3fvKhcGZ</td>\n",
       "      <td>brev empez charl rv psicolog ready thebridgetech {link}</td>\n",
       "    </tr>\n",
       "    <tr>\n",
       "      <th>93</th>\n",
       "      <td>Día para agradecer a @TheBridge_Tech y @Glovo_ES la oportunidad que han dado a estos dos cracks para formarse con @codeorg en programación por bloques en un curso de 48 horas de duración. Bravo 🙌  🔝🦸🏻‍♂️🦸🏻‍♀️🏭🇪🇸  https://t.co/ZTCrroHQTc</td>\n",
       "      <td>dia agradec thebridgetech glov oportun dad dos cracks form codeorg program bloqu curs hor duracion brav 🙌 🔝🦸🏻‍♂️🦸🏻‍♀️🏭🇪🇸 {link}</td>\n",
       "    </tr>\n",
       "    <tr>\n",
       "      <th>62</th>\n",
       "      <td>De los 21, hay 7 desarrolladoras de @Adalab_Digital, 4 de @4GeeksAcademyES, 2 de @CodenotchMAD, 1 de @socratech_ , 1 de @TheBridge_Tech, 1 de @ITAcademy, 1 de @nebulova_es y de FP-DAW y autodidactas.</td>\n",
       "      <td>desarroll adalabdigital geeksacademy codenotchm socratech thebridgetech itacademy nebulov fpdaw autodidact</td>\n",
       "    </tr>\n",
       "  </tbody>\n",
       "</table>\n",
       "</div>"
      ],
      "text/plain": [
       "                                                                                                                                                                                                                                         content  \\\n",
       "24                                                                                                                                      En breve empezamos la charla sobre RV y Psicología! Todo ready! @TheBridge_Tech  https://t.co/lW3fvKhcGZ   \n",
       "93  Día para agradecer a @TheBridge_Tech y @Glovo_ES la oportunidad que han dado a estos dos cracks para formarse con @codeorg en programación por bloques en un curso de 48 horas de duración. Bravo 🙌  🔝🦸🏻‍♂️🦸🏻‍♀️🏭🇪🇸  https://t.co/ZTCrroHQTc   \n",
       "62                                       De los 21, hay 7 desarrolladoras de @Adalab_Digital, 4 de @4GeeksAcademyES, 2 de @CodenotchMAD, 1 de @socratech_ , 1 de @TheBridge_Tech, 1 de @ITAcademy, 1 de @nebulova_es y de FP-DAW y autodidactas.   \n",
       "\n",
       "                                                                                                                      clean_content  \n",
       "24                                                                          brev empez charl rv psicolog ready thebridgetech {link}  \n",
       "93  dia agradec thebridgetech glov oportun dad dos cracks form codeorg program bloqu curs hor duracion brav 🙌 🔝🦸🏻‍♂️🦸🏻‍♀️🏭🇪🇸 {link}  \n",
       "62                       desarroll adalabdigital geeksacademy codenotchm socratech thebridgetech itacademy nebulov fpdaw autodidact  "
      ]
     },
     "execution_count": 33,
     "metadata": {},
     "output_type": "execute_result"
    }
   ],
   "source": [
    "from sklearn.feature_extraction.text import CountVectorizer\n",
    "\n",
    "vectorizer = CountVectorizer(ngram_range=(1,2))\n",
    "\n",
    "text = pd.DataFrame(df3['tweet']).rename(columns={'tweet': 'content'})\n",
    "text['clean_content'] = data['tweet']\n",
    "text.head()"
   ]
  },
  {
   "cell_type": "markdown",
   "metadata": {},
   "source": [
    "MODEL IMPORT"
   ]
  },
  {
   "cell_type": "code",
   "execution_count": 34,
   "metadata": {},
   "outputs": [
    {
     "name": "stderr",
     "output_type": "stream",
     "text": [
      "/home/n0t10n/Documents/Projects/Technical_test/.env/lib/python3.10/site-packages/sklearn/base.py:329: UserWarning: Trying to unpickle estimator CountVectorizer from version 1.0.2 when using version 1.1.1. This might lead to breaking code or invalid results. Use at your own risk. For more info please refer to:\n",
      "https://scikit-learn.org/stable/model_persistence.html#security-maintainability-limitations\n",
      "  warnings.warn(\n",
      "/home/n0t10n/Documents/Projects/Technical_test/.env/lib/python3.10/site-packages/sklearn/base.py:329: UserWarning: Trying to unpickle estimator LogisticRegression from version 1.0.2 when using version 1.1.1. This might lead to breaking code or invalid results. Use at your own risk. For more info please refer to:\n",
      "https://scikit-learn.org/stable/model_persistence.html#security-maintainability-limitations\n",
      "  warnings.warn(\n",
      "/home/n0t10n/Documents/Projects/Technical_test/.env/lib/python3.10/site-packages/sklearn/base.py:329: UserWarning: Trying to unpickle estimator Pipeline from version 1.0.2 when using version 1.1.1. This might lead to breaking code or invalid results. Use at your own risk. For more info please refer to:\n",
      "https://scikit-learn.org/stable/model_persistence.html#security-maintainability-limitations\n",
      "  warnings.warn(\n"
     ]
    }
   ],
   "source": [
    "model = pickle.load(open('model/finished_model.model', 'rb'))"
   ]
  },
  {
   "cell_type": "markdown",
   "metadata": {},
   "source": [
    "PREDICTIONS"
   ]
  },
  {
   "cell_type": "code",
   "execution_count": 35,
   "metadata": {},
   "outputs": [
    {
     "data": {
      "text/html": [
       "<div>\n",
       "<style scoped>\n",
       "    .dataframe tbody tr th:only-of-type {\n",
       "        vertical-align: middle;\n",
       "    }\n",
       "\n",
       "    .dataframe tbody tr th {\n",
       "        vertical-align: top;\n",
       "    }\n",
       "\n",
       "    .dataframe thead th {\n",
       "        text-align: right;\n",
       "    }\n",
       "</style>\n",
       "<table border=\"1\" class=\"dataframe\">\n",
       "  <thead>\n",
       "    <tr style=\"text-align: right;\">\n",
       "      <th></th>\n",
       "      <th>content</th>\n",
       "      <th>clean_content</th>\n",
       "      <th>Polarity_Pos</th>\n",
       "      <th>Polarity_Neg</th>\n",
       "      <th>Polarity</th>\n",
       "    </tr>\n",
       "  </thead>\n",
       "  <tbody>\n",
       "    <tr>\n",
       "      <th>24</th>\n",
       "      <td>En breve empezamos la charla sobre RV y Psicología! Todo ready! @TheBridge_Tech  https://t.co/lW3fvKhcGZ</td>\n",
       "      <td>brev empez charl rv psicolog ready thebridgetech {link}</td>\n",
       "      <td>NaN</td>\n",
       "      <td>NaN</td>\n",
       "      <td>NaN</td>\n",
       "    </tr>\n",
       "    <tr>\n",
       "      <th>93</th>\n",
       "      <td>Día para agradecer a @TheBridge_Tech y @Glovo_ES la oportunidad que han dado a estos dos cracks para formarse con @codeorg en programación por bloques en un curso de 48 horas de duración. Bravo 🙌  🔝🦸🏻‍♂️🦸🏻‍♀️🏭🇪🇸  https://t.co/ZTCrroHQTc</td>\n",
       "      <td>dia agradec thebridgetech glov oportun dad dos cracks form codeorg program bloqu curs hor duracion brav 🙌 🔝🦸🏻‍♂️🦸🏻‍♀️🏭🇪🇸 {link}</td>\n",
       "      <td>NaN</td>\n",
       "      <td>NaN</td>\n",
       "      <td>NaN</td>\n",
       "    </tr>\n",
       "    <tr>\n",
       "      <th>62</th>\n",
       "      <td>De los 21, hay 7 desarrolladoras de @Adalab_Digital, 4 de @4GeeksAcademyES, 2 de @CodenotchMAD, 1 de @socratech_ , 1 de @TheBridge_Tech, 1 de @ITAcademy, 1 de @nebulova_es y de FP-DAW y autodidactas.</td>\n",
       "      <td>desarroll adalabdigital geeksacademy codenotchm socratech thebridgetech itacademy nebulov fpdaw autodidact</td>\n",
       "      <td>NaN</td>\n",
       "      <td>NaN</td>\n",
       "      <td>NaN</td>\n",
       "    </tr>\n",
       "  </tbody>\n",
       "</table>\n",
       "</div>"
      ],
      "text/plain": [
       "                                                                                                                                                                                                                                         content  \\\n",
       "24                                                                                                                                      En breve empezamos la charla sobre RV y Psicología! Todo ready! @TheBridge_Tech  https://t.co/lW3fvKhcGZ   \n",
       "93  Día para agradecer a @TheBridge_Tech y @Glovo_ES la oportunidad que han dado a estos dos cracks para formarse con @codeorg en programación por bloques en un curso de 48 horas de duración. Bravo 🙌  🔝🦸🏻‍♂️🦸🏻‍♀️🏭🇪🇸  https://t.co/ZTCrroHQTc   \n",
       "62                                       De los 21, hay 7 desarrolladoras de @Adalab_Digital, 4 de @4GeeksAcademyES, 2 de @CodenotchMAD, 1 de @socratech_ , 1 de @TheBridge_Tech, 1 de @ITAcademy, 1 de @nebulova_es y de FP-DAW y autodidactas.   \n",
       "\n",
       "                                                                                                                      clean_content  \\\n",
       "24                                                                          brev empez charl rv psicolog ready thebridgetech {link}   \n",
       "93  dia agradec thebridgetech glov oportun dad dos cracks form codeorg program bloqu curs hor duracion brav 🙌 🔝🦸🏻‍♂️🦸🏻‍♀️🏭🇪🇸 {link}   \n",
       "62                       desarroll adalabdigital geeksacademy codenotchm socratech thebridgetech itacademy nebulov fpdaw autodidact   \n",
       "\n",
       "    Polarity_Pos  Polarity_Neg  Polarity  \n",
       "24           NaN           NaN       NaN  \n",
       "93           NaN           NaN       NaN  \n",
       "62           NaN           NaN       NaN  "
      ]
     },
     "execution_count": 35,
     "metadata": {},
     "output_type": "execute_result"
    }
   ],
   "source": [
    "predictions = model.predict(text['clean_content'])\n",
    "predictions_proba = model.predict_proba(text['clean_content'])\n",
    "\n",
    "text['Polarity_Pos'] = pd.Series(predictions_proba[0][0])\n",
    "text['Polarity_Neg'] = pd.Series(predictions_proba[0][1])\n",
    "\n",
    "text['Polarity'] = pd.Series(predictions)\n",
    "text"
   ]
  },
  {
   "cell_type": "code",
   "execution_count": null,
   "metadata": {},
   "outputs": [],
   "source": []
  }
 ],
 "metadata": {
  "interpreter": {
   "hash": "cae0fb89e750e55422ac74578a131942a48c53c32b875f87336759b11b4f80e5"
  },
  "kernelspec": {
   "display_name": "Python 3.10.4 ('.env': venv)",
   "language": "python",
   "name": "python3"
  },
  "language_info": {
   "codemirror_mode": {
    "name": "ipython",
    "version": 3
   },
   "file_extension": ".py",
   "mimetype": "text/x-python",
   "name": "python",
   "nbconvert_exporter": "python",
   "pygments_lexer": "ipython3",
   "version": "3.10.4"
  },
  "orig_nbformat": 4
 },
 "nbformat": 4,
 "nbformat_minor": 2
}
