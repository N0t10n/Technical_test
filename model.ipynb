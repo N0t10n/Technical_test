{
 "cells": [
  {
   "cell_type": "code",
   "execution_count": 19,
   "metadata": {},
   "outputs": [],
   "source": [
    "import pickle\n",
    "import pandas as pd"
   ]
  },
  {
   "cell_type": "code",
   "execution_count": 14,
   "metadata": {},
   "outputs": [
    {
     "data": {
      "text/html": [
       "<div>\n",
       "<style scoped>\n",
       "    .dataframe tbody tr th:only-of-type {\n",
       "        vertical-align: middle;\n",
       "    }\n",
       "\n",
       "    .dataframe tbody tr th {\n",
       "        vertical-align: top;\n",
       "    }\n",
       "\n",
       "    .dataframe thead th {\n",
       "        text-align: right;\n",
       "    }\n",
       "</style>\n",
       "<table border=\"1\" class=\"dataframe\">\n",
       "  <thead>\n",
       "    <tr style=\"text-align: right;\">\n",
       "      <th></th>\n",
       "      <th>id</th>\n",
       "      <th>tweet</th>\n",
       "      <th>created_at</th>\n",
       "      <th>user_id</th>\n",
       "      <th>name</th>\n",
       "      <th>username</th>\n",
       "      <th>retweets_count</th>\n",
       "      <th>replies_count</th>\n",
       "      <th>likes_count</th>\n",
       "      <th>quote_url</th>\n",
       "    </tr>\n",
       "  </thead>\n",
       "  <tbody>\n",
       "    <tr>\n",
       "      <th>24</th>\n",
       "      <td>1519706866703638529</td>\n",
       "      <td>En breve empezamos la charla sobre RV y Psicol...</td>\n",
       "      <td>2022-04-28 17:55:26 CEST</td>\n",
       "      <td>3294953441</td>\n",
       "      <td>Jose Maria Torralba</td>\n",
       "      <td>jm_torralba_</td>\n",
       "      <td>1</td>\n",
       "      <td>0</td>\n",
       "      <td>15</td>\n",
       "      <td>NaN</td>\n",
       "    </tr>\n",
       "    <tr>\n",
       "      <th>93</th>\n",
       "      <td>1500124541137428490</td>\n",
       "      <td>Día para agradecer a @TheBridge_Tech y @Glovo_...</td>\n",
       "      <td>2022-03-05 16:02:16 CET</td>\n",
       "      <td>363153431</td>\n",
       "      <td>Pablo Oliete</td>\n",
       "      <td>pablooliete</td>\n",
       "      <td>0</td>\n",
       "      <td>0</td>\n",
       "      <td>13</td>\n",
       "      <td>NaN</td>\n",
       "    </tr>\n",
       "    <tr>\n",
       "      <th>62</th>\n",
       "      <td>1513848281801056258</td>\n",
       "      <td>De los 21, hay 7 desarrolladoras de @Adalab_Di...</td>\n",
       "      <td>2022-04-12 13:55:30 CEST</td>\n",
       "      <td>1609031</td>\n",
       "      <td>Mánu Fosela</td>\n",
       "      <td>manufosela</td>\n",
       "      <td>3</td>\n",
       "      <td>3</td>\n",
       "      <td>12</td>\n",
       "      <td>NaN</td>\n",
       "    </tr>\n",
       "  </tbody>\n",
       "</table>\n",
       "</div>"
      ],
      "text/plain": [
       "                     id                                              tweet  \\\n",
       "24  1519706866703638529  En breve empezamos la charla sobre RV y Psicol...   \n",
       "93  1500124541137428490  Día para agradecer a @TheBridge_Tech y @Glovo_...   \n",
       "62  1513848281801056258  De los 21, hay 7 desarrolladoras de @Adalab_Di...   \n",
       "\n",
       "                  created_at     user_id                 name      username  \\\n",
       "24  2022-04-28 17:55:26 CEST  3294953441  Jose Maria Torralba  jm_torralba_   \n",
       "93   2022-03-05 16:02:16 CET   363153431         Pablo Oliete   pablooliete   \n",
       "62  2022-04-12 13:55:30 CEST     1609031          Mánu Fosela    manufosela   \n",
       "\n",
       "    retweets_count  replies_count  likes_count quote_url  \n",
       "24               1              0           15       NaN  \n",
       "93               0              0           13       NaN  \n",
       "62               3              3           12       NaN  "
      ]
     },
     "execution_count": 14,
     "metadata": {},
     "output_type": "execute_result"
    }
   ],
   "source": [
    "df = pd.read_csv('data/clean_tweets.csv')\n",
    "df3 = df.sort_values('likes_count', ascending=False)[:3]\n",
    "df3"
   ]
  },
  {
   "cell_type": "code",
   "execution_count": 15,
   "metadata": {},
   "outputs": [
    {
     "name": "stderr",
     "output_type": "stream",
     "text": [
      "/home/n0t10n/Documents/Projects/Technical_test/.env/lib/python3.10/site-packages/sklearn/base.py:329: UserWarning: Trying to unpickle estimator CountVectorizer from version 1.0.2 when using version 1.1.1. This might lead to breaking code or invalid results. Use at your own risk. For more info please refer to:\n",
      "https://scikit-learn.org/stable/model_persistence.html#security-maintainability-limitations\n",
      "  warnings.warn(\n",
      "/home/n0t10n/Documents/Projects/Technical_test/.env/lib/python3.10/site-packages/sklearn/base.py:329: UserWarning: Trying to unpickle estimator LogisticRegression from version 1.0.2 when using version 1.1.1. This might lead to breaking code or invalid results. Use at your own risk. For more info please refer to:\n",
      "https://scikit-learn.org/stable/model_persistence.html#security-maintainability-limitations\n",
      "  warnings.warn(\n",
      "/home/n0t10n/Documents/Projects/Technical_test/.env/lib/python3.10/site-packages/sklearn/base.py:329: UserWarning: Trying to unpickle estimator Pipeline from version 1.0.2 when using version 1.1.1. This might lead to breaking code or invalid results. Use at your own risk. For more info please refer to:\n",
      "https://scikit-learn.org/stable/model_persistence.html#security-maintainability-limitations\n",
      "  warnings.warn(\n"
     ]
    },
    {
     "data": {
      "text/plain": [
       "array([0, 0, 0, 0, 0, 0, 0, 0, 0, 0])"
      ]
     },
     "execution_count": 15,
     "metadata": {},
     "output_type": "execute_result"
    }
   ],
   "source": [
    "model = pickle.load(open('model/finished_model.model', 'rb'))\n",
    "model.predict(df3)"
   ]
  }
 ],
 "metadata": {
  "interpreter": {
   "hash": "cae0fb89e750e55422ac74578a131942a48c53c32b875f87336759b11b4f80e5"
  },
  "kernelspec": {
   "display_name": "Python 3.10.4 ('.env': venv)",
   "language": "python",
   "name": "python3"
  },
  "language_info": {
   "codemirror_mode": {
    "name": "ipython",
    "version": 3
   },
   "file_extension": ".py",
   "mimetype": "text/x-python",
   "name": "python",
   "nbconvert_exporter": "python",
   "pygments_lexer": "ipython3",
   "version": "3.10.4"
  },
  "orig_nbformat": 4
 },
 "nbformat": 4,
 "nbformat_minor": 2
}
